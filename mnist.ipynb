{
 "cells": [
  {
   "cell_type": "markdown",
   "id": "e2c77188",
   "metadata": {},
   "source": [
    "## quantum_svm_mnist_ionq.py"
   ]
  },
  {
   "cell_type": "code",
   "execution_count": 27,
   "id": "5d809ce2",
   "metadata": {},
   "outputs": [],
   "source": [
    "import numpy as np\n",
    "import matplotlib.pyplot as plt\n",
    "\n",
    "from sklearn.datasets import fetch_openml\n",
    "from sklearn.decomposition import PCA\n",
    "from sklearn.preprocessing import StandardScaler\n",
    "from sklearn.model_selection import train_test_split\n",
    "from sklearn.svm import SVC\n",
    "from sklearn.metrics import accuracy_score\n",
    "\n",
    "from qiskit_ionq import IonQProvider\n",
    "from qiskit import QuantumCircuit\n",
    "\n",
    "from qiskit_aer import Aer\n",
    "from tqdm import tqdm\n"
   ]
  },
  {
   "cell_type": "code",
   "execution_count": 28,
   "id": "f564ff2e",
   "metadata": {},
   "outputs": [],
   "source": [
    "mnist = fetch_openml('mnist_784', version=1)\n",
    "X_raw, y_raw = mnist['data'], mnist['target']"
   ]
  },
  {
   "cell_type": "code",
   "execution_count": 29,
   "id": "616b5cf3",
   "metadata": {},
   "outputs": [],
   "source": [
    "# 2. Filter for digits 3 and 6\n",
    "mask = (y_raw == '3') | (y_raw == '6')\n",
    "X, y = X_raw[mask], y_raw[mask]\n",
    "\n",
    "# Reduce the number of samples for each class\n",
    "n_samples_per_class = 100  # adjust as needed\n",
    "X_small = []\n",
    "y_small = []\n",
    "for label in ['3', '6']:\n",
    "    idx = np.where(y == label)[0][:n_samples_per_class]\n",
    "    X_small.append(X.iloc[idx])\n",
    "    y_small.append(y.iloc[idx])\n",
    "X = np.vstack([x.values for x in X_small])\n",
    "y = np.concatenate(y_small)\n",
    "\n",
    "# 3. Relabel: 3 → 0, 6 → 1\n",
    "y = np.where(y == '3', 0, 1)\n",
    "\n",
    "# 4. PCA for dimensionality reduction\n",
    "n_components = 4  # Adjust for your quantum circuit size\n",
    "pca = PCA(n_components=n_components)\n",
    "X_pca = pca.fit_transform(X)\n",
    "\n",
    "# 5. Standard Scaler\n",
    "scaler = StandardScaler()\n",
    "X_scaled = scaler.fit_transform(X_pca)\n",
    "\n",
    "# 6. Train-test split\n",
    "indices = np.arange(len(X))\n",
    "X_train, X_test, y_train, y_test, idx_train, idx_test = train_test_split(\n",
    "    X_scaled, y, indices, test_size=0.2, random_state=42\n",
    ")\n"
   ]
  },
  {
   "cell_type": "code",
   "execution_count": 30,
   "id": "7332e3a6",
   "metadata": {},
   "outputs": [],
   "source": [
    "# 7. Setup IonQ backend (Qiskit)\n",
    "# provider = IonQProvider(token='YOUR_IONQ_API_KEY')\n",
    "# backend = provider.get_backend('ionq_simulator')  # or 'ionq_qpu' for hardware\n",
    "backend = None  # TODO: Set up IonQ backend with your API key\n",
    "backend = Aer.get_backend(\"aer_simulator\")\n",
    "\n",
    "# 8. Angle Embedding and Adjoint Embedding\n",
    "def angle_embedding(x, n_qubits):\n",
    "    qc = QuantumCircuit(n_qubits)\n",
    "    for i, val in enumerate(x):\n",
    "        qc.ry(val, i)\n",
    "    return qc\n",
    "\n",
    "def adjoint_angle_embedding(x, n_qubits):\n",
    "    qc = angle_embedding(x, n_qubits)\n",
    "    return qc.inverse()\n",
    "\n",
    "# 9. Kernel Matrix Setup (Quantum Kernel Evaluation)\n",
    "# def quantum_kernel_matrix(X1, X2, backend, n_qubits):\n",
    "#     # TODO: Implement quantum kernel evaluation using IonQ backend\n",
    "#     # For now, return a random matrix as a placeholder\n",
    "#     return np.random.rand(len(X1), len(X2))\n",
    "\n",
    "def quantum_kernel_matrix(X1, X2, backend, n_qubits, shots=1024):\n",
    "    kernel_matrix = np.zeros((len(X1), len(X2)))\n",
    "    for i, x1 in enumerate(tqdm(X1, desc=\"Rows\", position=0)):\n",
    "        for j, x2 in enumerate(tqdm(X2, desc=\"Cols\", position=1, leave=False)):\n",
    "            qc = angle_embedding(x1, n_qubits)\n",
    "            qc.compose(adjoint_angle_embedding(x2, n_qubits), inplace=True)\n",
    "            qc.measure_all()\n",
    "            job = backend.run(qc, shots=shots)\n",
    "            result = job.result()\n",
    "            counts = result.get_counts()\n",
    "            prob_zero = counts.get('0'*n_qubits, 0) / shots\n",
    "            kernel_matrix[i, j] = prob_zero\n",
    "    return kernel_matrix"
   ]
  },
  {
   "cell_type": "code",
   "execution_count": 31,
   "id": "d64557be",
   "metadata": {},
   "outputs": [
    {
     "name": "stderr",
     "output_type": "stream",
     "text": [
      "Rows: 100%|██████████| 160/160 [00:25<00:00,  6.35it/s]\n",
      "Rows: 100%|██████████| 40/40 [00:06<00:00,  6.45it/s]"
     ]
    },
    {
     "name": "stdout",
     "output_type": "stream",
     "text": [
      "Quantum SVM accuracy: 1.000\n"
     ]
    },
    {
     "name": "stderr",
     "output_type": "stream",
     "text": [
      "\n"
     ]
    }
   ],
   "source": [
    "# 10. Create SVM with precomputed kernel\n",
    "K_train = quantum_kernel_matrix(X_train, X_train, backend, n_components)\n",
    "K_test = quantum_kernel_matrix(X_test, X_train, backend, n_components)\n",
    "\n",
    "svm = SVC(kernel='precomputed')\n",
    "svm.fit(K_train, y_train)\n",
    "\n",
    "# 11. Evaluate SVM\n",
    "y_pred = svm.predict(K_test)\n",
    "acc = accuracy_score(y_test, y_pred)\n",
    "print(f'Quantum SVM accuracy: {acc:.3f}')"
   ]
  },
  {
   "cell_type": "code",
   "execution_count": 32,
   "id": "4d066176",
   "metadata": {},
   "outputs": [],
   "source": [
    "correct_indices = np.where(y_pred == y_test)[0]\n",
    "n_examples = 5\n",
    "show_indices = correct_indices[:n_examples]"
   ]
  },
  {
   "cell_type": "code",
   "execution_count": 33,
   "id": "78df4a3b",
   "metadata": {},
   "outputs": [
    {
     "data": {
      "image/png": "[encoded data removed]",
      "text/plain": [
       "<Figure size 640x480 with 1 Axes>"
      ]
     },
     "metadata": {},
     "output_type": "display_data"
    },
    {
     "data": {
      "image/png": "[encoded data removed]",
      "text/plain": [
       "<Figure size 640x480 with 1 Axes>"
      ]
     },
     "metadata": {},
     "output_type": "display_data"
    },
    {
     "data": {
      "image/png": "[encoded data removed]",
      "text/plain": [
       "<Figure size 640x480 with 1 Axes>"
      ]
     },
     "metadata": {},
     "output_type": "display_data"
    },
    {
     "data": {
      "image/png": "[encoded data removed]",
      "text/plain": [
       "<Figure size 640x480 with 1 Axes>"
      ]
     },
     "metadata": {},
     "output_type": "display_data"
    },
    {
     "data": {
      "image/png": "[encoded data removed]",
      "text/plain": [
       "<Figure size 640x480 with 1 Axes>"
      ]
     },
     "metadata": {},
     "output_type": "display_data"
    }
   ],
   "source": [
    "# Find correct predictions\n",
    "for idx in show_indices:\n",
    "    orig_idx = idx_test[idx]\n",
    "    img = X_raw.iloc[orig_idx].values.reshape(28, 28)\n",
    "    plt.imshow(img, cmap='gray')\n",
    "    plt.title(f\"True: {y_test[idx]}, Pred: {y_pred[idx]}\")\n",
    "    plt.axis('off')\n",
    "    plt.show()"
   ]
  }
 ],
 "metadata": {
  "kernelspec": {
   "display_name": "Python (qml_env)",
   "language": "python",
   "name": "qml_env"
  },
  "language_info": {
   "codemirror_mode": {
    "name": "ipython",
    "version": 3
   },
   "file_extension": ".py",
   "mimetype": "text/x-python",
   "name": "python",
   "nbconvert_exporter": "python",
   "pygments_lexer": "ipython3",
   "version": "3.10.18"
  }
 },
 "nbformat": 4,
 "nbformat_minor": 5
}
